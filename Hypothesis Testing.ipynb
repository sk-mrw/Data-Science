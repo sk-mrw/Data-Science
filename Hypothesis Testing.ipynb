{
 "cells": [
  {
   "cell_type": "markdown",
   "id": "7cbdfa72-55e3-4963-8c92-a149c089a0ce",
   "metadata": {},
   "source": [
    "# Hypothesis\n",
    "#### Background:\n",
    "Bombay hospitality Ltd. operates a franchise model for producing exotic Norwegian dinners throughout New England. The operating cost for a franchise in a week (W) is given by the equation W = 1,000 + 5X, where X represents the number of units produced in a week. Recent feedback from restaurant owners suggests that this cost model may no longer be accurate, as their observed weekly operating costs are higher.\n",
    "#### Objective:\n",
    "To investigate the restaurant owners' claim about the increase in weekly operating costs using hypothesis testing.\n",
    "Data Provided:\n",
    "- The theoretical weekly operating cost model: W = 1,000 + 5X\n",
    "- Sample of 25 restaurants with a mean weekly cost of 3,050\n",
    "- Number of units produced in a week (X) follows a normal distribution with a mean (μ) of 600 units and a standard deviation (σ) of 25 units\n",
    "#### Assignment Tasks:\n",
    "1. State the Hypotheses statement:\n",
    "2. Calculate the Test Statistic:\n",
    "#### Use the following formula to calculate the test statistic (t):\n",
    "where:\n",
    "- ˉxˉ = sample mean weekly cost (Rs. 3,050)\n",
    "- μ = theoretical mean weekly cost according to the cost model (W = 1,000 + 5X for X = 600 units)\n",
    "- σ = 5*25 units\n",
    "- n = sample size (25 restaurants)\n",
    "#### Determine the Critical Value:\n",
    "Using the alpha level of 5% (α = 0.05), determine the critical value from the standard normal (Z) distribution table.\n",
    "#### Make a Decision:\n",
    "Compare the test statistic with the critical value to decide whether to reject the null hypothesis.\n",
    "#### Conclusion:\n",
    "Based on the decision in step 4, conclude whether there is strong evidence to support the restaurant owners' claim that the weekly operating costs are higher than the model suggests.\n"
   ]
  },
  {
   "cell_type": "markdown",
   "id": "0c475dfa-0749-44c9-b1b6-f36c48c6a69b",
   "metadata": {},
   "source": [
    "Given \n",
    "sample mean = 3050\n",
    "mean(cost model)=1000+5*600=4000\n",
    "sample size= 25\n",
    "standard deviation =5*25=125\n",
    "\n",
    "for these samples, sample mean is significantly less than the theoretical mean."
   ]
  },
  {
   "cell_type": "markdown",
   "id": "be645097-aaef-40a1-855e-ef85ed356929",
   "metadata": {},
   "source": [
    "#### Hypothesis statement\n",
    "- H0: mean = 4000 => model is accurate\n",
    "- H1: mean > 4000 => Actual costs are higher than predicted\n",
    "- Test type: one tailed right "
   ]
  },
  {
   "cell_type": "code",
   "execution_count": 8,
   "id": "14a6feff-18de-464f-b751-005cf544c8e5",
   "metadata": {},
   "outputs": [
    {
     "name": "stdout",
     "output_type": "stream",
     "text": [
      "t_stats : -38.0\n",
      "t_critical : 1.7108820799094275\n",
      "Accepting NULL Hypothesis, rejecting alternate hypothesis\n"
     ]
    }
   ],
   "source": [
    "import numpy as np\n",
    "from scipy.stats import t\n",
    "\n",
    "sample_mean = 3050\n",
    "mean=1000+5*600\n",
    "sample_size= 25\n",
    "standard_deviation =5*25\n",
    "\n",
    "#Test static\n",
    "\n",
    "t_stats=(sample_mean-mean)/(standard_deviation/np.sqrt(sample_size))\n",
    "print(f\"t_stats : {t_stats}\")\n",
    "\n",
    "alpha=0.05\n",
    "df=sample_size-1 #degree of freedom\n",
    "\n",
    "t_critical=t.ppf(1-alpha,df)\n",
    "print(f\"t_critical : {t_critical}\")\n",
    "\n",
    "if(t_stats<=t_critical):\n",
    "    print(\"Accepting NULL Hypothesis, rejecting alternate hypothesis\")\n",
    "else:\n",
    "    print(\"Rejecting NULL Hypothesis, Accepting alternate hypothesis\")\n"
   ]
  },
  {
   "cell_type": "markdown",
   "id": "0225f3d9-771d-4bba-b091-bae6bb527ab1",
   "metadata": {},
   "source": [
    "Conclusion: We have strong evidence that the average actual weekly operating costs are significantly lower than predicted model"
   ]
  }
 ],
 "metadata": {
  "kernelspec": {
   "display_name": "Python [conda env:base] *",
   "language": "python",
   "name": "conda-base-py"
  },
  "language_info": {
   "codemirror_mode": {
    "name": "ipython",
    "version": 3
   },
   "file_extension": ".py",
   "mimetype": "text/x-python",
   "name": "python",
   "nbconvert_exporter": "python",
   "pygments_lexer": "ipython3",
   "version": "3.12.7"
  }
 },
 "nbformat": 4,
 "nbformat_minor": 5
}
