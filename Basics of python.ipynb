{
 "cells": [
  {
   "cell_type": "markdown",
   "id": "1315a01c-d75f-4c07-8217-1c52db8ec65e",
   "metadata": {},
   "source": [
    "## Prime number"
   ]
  },
  {
   "cell_type": "code",
   "execution_count": 19,
   "id": "a5ad1166-26e3-4f3b-8df8-6f663249806e",
   "metadata": {},
   "outputs": [
    {
     "name": "stdin",
     "output_type": "stream",
     "text": [
      "Please enter a number 89\n"
     ]
    },
    {
     "name": "stdout",
     "output_type": "stream",
     "text": [
      "89 is a prime number\n"
     ]
    }
   ],
   "source": [
    "x=int(input(\"Please enter a number\"))\n",
    "if x>0:\n",
    "    p=0\n",
    "    for i in range(2,x):\n",
    "        if x%i==0:\n",
    "            print(f\"{x} is not a prime number. It is divisible by {i}\")\n",
    "            p+=1\n",
    "            break\n",
    "    if p==0:\n",
    "        print(f\"{x} is a prime number\")\n",
    "else:\n",
    "    print(\"Please enter a valid number\")\n",
    "    \n",
    "        "
   ]
  },
  {
   "cell_type": "markdown",
   "id": "d99bd574-bd04-4adc-a6b0-d8042e32cbf1",
   "metadata": {},
   "source": [
    "## Product of Random Numbers"
   ]
  },
  {
   "cell_type": "code",
   "execution_count": 29,
   "id": "959defd8-57e4-4d00-ab3e-0e6ece15547a",
   "metadata": {},
   "outputs": [
    {
     "name": "stdout",
     "output_type": "stream",
     "text": [
      "Multiply 49 and 16"
     ]
    },
    {
     "name": "stdin",
     "output_type": "stream",
     "text": [
      " 784\n"
     ]
    },
    {
     "name": "stdout",
     "output_type": "stream",
     "text": [
      "Multiplication is correct\n"
     ]
    }
   ],
   "source": [
    "import random as ran\n",
    "x=ran.randint(0,100)\n",
    "y=ran.randint(0,100)\n",
    "print(f\"Multiply {x} and {y}\",end=\"\")\n",
    "z=int(input())\n",
    "if z==x*y:\n",
    "    print(\"Multiplication is correct\")\n",
    "else:\n",
    "    print(\"Multiplication is not correct\")"
   ]
  },
  {
   "cell_type": "markdown",
   "id": "a21a6ad6-9769-4f34-911e-f8fb806f78da",
   "metadata": {},
   "source": [
    "## Squares of Even Numbers"
   ]
  },
  {
   "cell_type": "code",
   "execution_count": 35,
   "id": "d9c663b9-8919-4471-bce6-2a0bd37bd712",
   "metadata": {},
   "outputs": [
    {
     "name": "stdout",
     "output_type": "stream",
     "text": [
      "square of 100= 10000\n",
      "square of 102= 10404\n",
      "square of 104= 10816\n",
      "square of 106= 11236\n",
      "square of 108= 11664\n",
      "square of 110= 12100\n",
      "square of 112= 12544\n",
      "square of 114= 12996\n",
      "square of 116= 13456\n",
      "square of 118= 13924\n",
      "square of 120= 14400\n",
      "square of 122= 14884\n",
      "square of 124= 15376\n",
      "square of 126= 15876\n",
      "square of 128= 16384\n",
      "square of 130= 16900\n",
      "square of 132= 17424\n",
      "square of 134= 17956\n",
      "square of 136= 18496\n",
      "square of 138= 19044\n",
      "square of 140= 19600\n",
      "square of 142= 20164\n",
      "square of 144= 20736\n",
      "square of 146= 21316\n",
      "square of 148= 21904\n",
      "square of 150= 22500\n",
      "square of 152= 23104\n",
      "square of 154= 23716\n",
      "square of 156= 24336\n",
      "square of 158= 24964\n",
      "square of 160= 25600\n",
      "square of 162= 26244\n",
      "square of 164= 26896\n",
      "square of 166= 27556\n",
      "square of 168= 28224\n",
      "square of 170= 28900\n",
      "square of 172= 29584\n",
      "square of 174= 30276\n",
      "square of 176= 30976\n",
      "square of 178= 31684\n",
      "square of 180= 32400\n",
      "square of 182= 33124\n",
      "square of 184= 33856\n",
      "square of 186= 34596\n",
      "square of 188= 35344\n",
      "square of 190= 36100\n",
      "square of 192= 36864\n",
      "square of 194= 37636\n",
      "square of 196= 38416\n",
      "square of 198= 39204\n",
      "square of 200= 40000\n"
     ]
    }
   ],
   "source": [
    "for i in range(100,201):\n",
    "    if i%2==0:\n",
    "        print(f\"square of {i}= {i**2}\")"
   ]
  },
  {
   "cell_type": "markdown",
   "id": "9ad84950-68fa-4538-8719-e52b42e4dbeb",
   "metadata": {},
   "source": [
    "## Word counter"
   ]
  },
  {
   "cell_type": "code",
   "execution_count": 46,
   "id": "04475a22-1a79-4899-933c-db60f675e1c7",
   "metadata": {},
   "outputs": [
    {
     "name": "stdin",
     "output_type": "stream",
     "text": [
      "Enter a string I am Sanjeev\n"
     ]
    },
    {
     "name": "stdout",
     "output_type": "stream",
     "text": [
      "I am Sanjeev -3 words\n"
     ]
    }
   ],
   "source": [
    "x=input(\"Enter a string\")\n",
    "n=1\n",
    "for i in x:\n",
    "    if i==' ':\n",
    "        n+=1\n",
    "print(f\"{x} -{n} words\")"
   ]
  },
  {
   "cell_type": "markdown",
   "id": "e5710dd5-c076-4236-9046-ca8a00919d5e",
   "metadata": {},
   "source": [
    "## Check for Palindrome"
   ]
  },
  {
   "cell_type": "code",
   "execution_count": 86,
   "id": "2053b344-1fe9-4705-a24a-bf20b50ffe7e",
   "metadata": {},
   "outputs": [
    {
     "name": "stdin",
     "output_type": "stream",
     "text": [
      "Enter a string:  reaer\n"
     ]
    },
    {
     "name": "stdout",
     "output_type": "stream",
     "text": [
      "reaer reverse: reaer\n",
      "True\n"
     ]
    }
   ],
   "source": [
    "\n",
    "x=input(\"Enter a string: \")\n",
    "x=x.lower()\n",
    "y=list(x)\n",
    "y.reverse()\n",
    "z=\"\".join(y)\n",
    "print(f\"{x} reverse: {z}\")\n",
    "if z == x:\n",
    "    print(True)\n",
    "else:\n",
    "    print(False)\n",
    "\n"
   ]
  }
 ],
 "metadata": {
  "kernelspec": {
   "display_name": "Python [conda env:base] *",
   "language": "python",
   "name": "conda-base-py"
  },
  "language_info": {
   "codemirror_mode": {
    "name": "ipython",
    "version": 3
   },
   "file_extension": ".py",
   "mimetype": "text/x-python",
   "name": "python",
   "nbconvert_exporter": "python",
   "pygments_lexer": "ipython3",
   "version": "3.12.7"
  }
 },
 "nbformat": 4,
 "nbformat_minor": 5
}
