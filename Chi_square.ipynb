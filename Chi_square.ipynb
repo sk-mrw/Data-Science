{
 "cells": [
  {
   "cell_type": "markdown",
   "id": "4643f718-9060-4deb-b084-2562b5b7842f",
   "metadata": {},
   "source": [
    "# CHI-SQUARE TEST\n",
    "#### Association between Device Type and Customer Satisfaction\n",
    "### Background:\n",
    "Mizzare Corporation has collected data on customer satisfaction levels for two types of smart home devices: Smart Thermostats and Smart Lights. They want to determine if there's a significant association between the type of device purchased and the customer's satisfaction level.\n",
    "#### Data Provided:\n",
    "The data is summarized in a contingency table showing the counts of customers in each satisfaction level for both types of devices:\n",
    "- Satisfaction\tSmart Thermostat\tSmart Light\tTotal\n",
    "- Very Satisfied\t50\t70\t120\n",
    "- Satisfied\t80\t100\t180\n",
    "- Neutral\t60\t90\t150\n",
    "- Unsatisfied\t30\t50\t80\n",
    "- Very Unsatisfied\t20\t50\t70\n",
    "- Total\t240\t360\t600\n",
    "##### Objective:\n",
    "To use the Chi-Square test for independence to determine if there's a significant association between the type of smart home device purchased (Smart Thermostats vs. Smart Lights) and the customer satisfaction level.\n",
    "Assignment Tasks:\n",
    "1. State the Hypotheses:\n",
    "2. Compute the Chi-Square Statistic:\n",
    "3. Determine the Critical Value:\n",
    "Using the significance level (alpha) of 0.05 and the degrees of freedom (which is the number of categories minus 1)\n",
    "4. Make a Decision:\n",
    "Compare the Chi-Square statistic with the critical value to decide whether to reject the null hypothesis.\n",
    "##### Submission Guidelines:\n",
    "- Provide a detailed report of your analysis, including each step outlined in the assignment tasks in a python file.\n",
    "- Include all calculations, the Chi-Square statistic, the critical value, and your conclusion.\n"
   ]
  },
  {
   "cell_type": "markdown",
   "id": "24974bf0-c6c6-45ec-b1b7-c0e158f0844e",
   "metadata": {},
   "source": [
    "##### Hypothesis:\n",
    "- H0: There is no association between type of device and customer satisfaction\n",
    "- H1: there is association between the type of device purchased and the customer's satisfaction"
   ]
  },
  {
   "cell_type": "code",
   "execution_count": 10,
   "id": "1dff5eb0-bdaa-40c7-b02a-403c098307c8",
   "metadata": {},
   "outputs": [],
   "source": [
    "import pandas as pd\n",
    "import scipy.stats as stats\n",
    "data= {\"Smart Thermostat\":[50,80,60,30,20],\"Smart Light\":[70,100,90,50,50]}\n",
    "index=[\"Very Satisfied\",\"Satisfied\",\"Neutral\",\"Unsatisfied\",\"Very unsatisfied\"]\n",
    "df=pd.DataFrame(data,index=index)"
   ]
  },
  {
   "cell_type": "code",
   "execution_count": 12,
   "id": "2bc67865-0d95-4edf-9224-5bc719b45f81",
   "metadata": {},
   "outputs": [
    {
     "data": {
      "text/html": [
       "<div>\n",
       "<style scoped>\n",
       "    .dataframe tbody tr th:only-of-type {\n",
       "        vertical-align: middle;\n",
       "    }\n",
       "\n",
       "    .dataframe tbody tr th {\n",
       "        vertical-align: top;\n",
       "    }\n",
       "\n",
       "    .dataframe thead th {\n",
       "        text-align: right;\n",
       "    }\n",
       "</style>\n",
       "<table border=\"1\" class=\"dataframe\">\n",
       "  <thead>\n",
       "    <tr style=\"text-align: right;\">\n",
       "      <th></th>\n",
       "      <th>Smart Thermostat</th>\n",
       "      <th>Smart Light</th>\n",
       "    </tr>\n",
       "  </thead>\n",
       "  <tbody>\n",
       "    <tr>\n",
       "      <th>Very Satisfied</th>\n",
       "      <td>50</td>\n",
       "      <td>70</td>\n",
       "    </tr>\n",
       "    <tr>\n",
       "      <th>Satisfied</th>\n",
       "      <td>80</td>\n",
       "      <td>100</td>\n",
       "    </tr>\n",
       "    <tr>\n",
       "      <th>Neutral</th>\n",
       "      <td>60</td>\n",
       "      <td>90</td>\n",
       "    </tr>\n",
       "    <tr>\n",
       "      <th>Unsatisfied</th>\n",
       "      <td>30</td>\n",
       "      <td>50</td>\n",
       "    </tr>\n",
       "    <tr>\n",
       "      <th>Very unsatisfied</th>\n",
       "      <td>20</td>\n",
       "      <td>50</td>\n",
       "    </tr>\n",
       "  </tbody>\n",
       "</table>\n",
       "</div>"
      ],
      "text/plain": [
       "                  Smart Thermostat  Smart Light\n",
       "Very Satisfied                  50           70\n",
       "Satisfied                       80          100\n",
       "Neutral                         60           90\n",
       "Unsatisfied                     30           50\n",
       "Very unsatisfied                20           50"
      ]
     },
     "execution_count": 12,
     "metadata": {},
     "output_type": "execute_result"
    }
   ],
   "source": [
    "df"
   ]
  },
  {
   "cell_type": "code",
   "execution_count": 30,
   "id": "19fa963c-8949-43bf-8e22-d6c9a21640a7",
   "metadata": {},
   "outputs": [
    {
     "name": "stdout",
     "output_type": "stream",
     "text": [
      "Chi-Square Statistic: 5.638227513227513\n",
      "Degrees of Freedom: 4\n",
      "Critical Value (0.05 significance level): 9.487729036781154\n",
      "P-Value: 0.22784371130697179\n",
      "Expected Frequencies:\n",
      " [[ 48.  72.]\n",
      " [ 72. 108.]\n",
      " [ 60.  90.]\n",
      " [ 32.  48.]\n",
      " [ 28.  42.]]\n",
      "Reject Null Hypothesis: False\n"
     ]
    }
   ],
   "source": [
    "from scipy.stats import chi2_contingency\n",
    "Chi2_stats,pvalue,dof,expected=stats.chi2_contingency(df)\n",
    "# Determine critical value\n",
    "\n",
    "alpha=0.05\n",
    "critical_value=stats.chi2.ppf(q=1-alpha,df=dof)\n",
    "# Decision\n",
    "reject_null = Chi2_stats > critical_value\n",
    "\n",
    "# Print results\n",
    "\n",
    "print(\"Chi-Square Statistic:\", Chi2_stats)\n",
    "print(\"Degrees of Freedom:\", dof)\n",
    "print(\"Critical Value (0.05 significance level):\", critical_value)\n",
    "print(\"P-Value:\", pvalue)\n",
    "print(\"Expected Frequencies:\\n\", expected)\n",
    "print(\"Reject Null Hypothesis:\", reject_null)  # True means significant association\n",
    "\n"
   ]
  },
  {
   "cell_type": "code",
   "execution_count": null,
   "id": "01e44556-c855-4a5d-a8e7-c4841d279ee8",
   "metadata": {},
   "outputs": [],
   "source": [
    "# Here critical value is higher than chi2_stats so, We can not reject null hypothessis that means there is no association between product type and satisfaction."
   ]
  }
 ],
 "metadata": {
  "kernelspec": {
   "display_name": "Python [conda env:base] *",
   "language": "python",
   "name": "conda-base-py"
  },
  "language_info": {
   "codemirror_mode": {
    "name": "ipython",
    "version": 3
   },
   "file_extension": ".py",
   "mimetype": "text/x-python",
   "name": "python",
   "nbconvert_exporter": "python",
   "pygments_lexer": "ipython3",
   "version": "3.12.7"
  }
 },
 "nbformat": 4,
 "nbformat_minor": 5
}
